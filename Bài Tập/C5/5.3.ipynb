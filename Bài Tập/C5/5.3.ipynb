{
 "cells": [
  {
   "cell_type": "code",
   "execution_count": 1,
   "metadata": {},
   "outputs": [],
   "source": [
    "import sqlite3\n",
    "# Kết nối đến cơ sở dữ liệu (nếu không tồn tại, sẽ tự động tạo mới)\n",
    "conn = sqlite3.connect('mydatabase.db')\n",
    "#tạo con trỏ\n",
    "cursor = conn.cursor()\n",
    "# Tạo bảng trong cơ sở dữ liệu\n",
    "cursor.execute('''\n",
    "CREATE TABLE IF NOT EXISTS employees(\n",
    "id INTEGER PRIMARY KEY,\n",
    "\"name\" TEXT NOT NULL,\n",
    "\"age\" INTEGER NOT NULL,\n",
    "\"salary\" REAL NOT NULL)''')\n",
    "# Lưu các thay đổ\n",
    "conn.commit()\n",
    "#Đóng\n",
    "conn.close()\n",
    "\n"
   ]
  }
 ],
 "metadata": {
  "kernelspec": {
   "display_name": "Python 3",
   "language": "python",
   "name": "python3"
  },
  "language_info": {
   "codemirror_mode": {
    "name": "ipython",
    "version": 3
   },
   "file_extension": ".py",
   "mimetype": "text/x-python",
   "name": "python",
   "nbconvert_exporter": "python",
   "pygments_lexer": "ipython3",
   "version": "3.12.0"
  }
 },
 "nbformat": 4,
 "nbformat_minor": 2
}
