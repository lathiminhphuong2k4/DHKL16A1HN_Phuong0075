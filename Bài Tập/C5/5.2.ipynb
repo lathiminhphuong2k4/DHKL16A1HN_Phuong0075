{
 "cells": [
  {
   "cell_type": "code",
   "execution_count": 6,
   "metadata": {},
   "outputs": [],
   "source": [
    "import sqlite3\n",
    "#tạo kết nối \n",
    "conn=sqlite3.connect(':memory:')\n",
    "#tạo con trỏ\n",
    "cursor = conn.cursor()\n",
    "#tạo bảng\n",
    "cursor.execute('''\n",
    "CREATE TABLE employees(\n",
    "id INTEGER PRIMARY KEY NOT NULL,\n",
    "\"name\" TEXT NOT NULL,\n",
    "\"age\" INTEGER NOT NULL,\n",
    "\"salary\" REAL NOT NULL)''')\n",
    "\n",
    "#lưu các thay đổi vào cơ sở dữ liệu (nếu cần)\n",
    "conn.commit()\n",
    "\n",
    "#Đóng con trỏ và đóng kết nối\n",
    "cursor.close()\n",
    "conn.close()\n",
    "\n"
   ]
  }
 ],
 "metadata": {
  "kernelspec": {
   "display_name": "Python 3",
   "language": "python",
   "name": "python3"
  },
  "language_info": {
   "codemirror_mode": {
    "name": "ipython",
    "version": 3
   },
   "file_extension": ".py",
   "mimetype": "text/x-python",
   "name": "python",
   "nbconvert_exporter": "python",
   "pygments_lexer": "ipython3",
   "version": "3.12.0"
  }
 },
 "nbformat": 4,
 "nbformat_minor": 2
}
