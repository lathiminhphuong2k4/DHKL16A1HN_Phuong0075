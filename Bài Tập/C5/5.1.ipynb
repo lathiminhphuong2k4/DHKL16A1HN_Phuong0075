{
 "cells": [
  {
   "cell_type": "code",
   "execution_count": 1,
   "metadata": {},
   "outputs": [
    {
     "name": "stdout",
     "output_type": "stream",
     "text": [
      "SQLite version 3.42.0\n"
     ]
    }
   ],
   "source": [
    "import sqlite3\n",
    "# Kết nối đến cơ sở dữ liệu (hoặc tạo cơ sở dữ liệu mới nếu nó không tồn tại)\n",
    "conn = sqlite3.connect('mydatabase.db')\n",
    "# Tạo một đối tượng con trỏ (Cursor object) từ đối tượng kết nối\n",
    "cursor = conn.cursor()\n",
    "# Thực thi câu lệnh SQL và truy xuất dữ liệu được đặt trong cặp dấu '''...'''\n",
    "cursor.execute(\"SELECT SQLITE_VERSION()\")\n",
    "result=cursor.fetchone()\n",
    "\n",
    "print(\"SQLite version\",result[0])\n",
    "\n",
    "# Đóng con trỏ (Cursor object) và đóng kết nối\n",
    "cursor.close()\n",
    "conn.close()\n"
   ]
  }
 ],
 "metadata": {
  "kernelspec": {
   "display_name": "Python 3",
   "language": "python",
   "name": "python3"
  },
  "language_info": {
   "codemirror_mode": {
    "name": "ipython",
    "version": 3
   },
   "file_extension": ".py",
   "mimetype": "text/x-python",
   "name": "python",
   "nbconvert_exporter": "python",
   "pygments_lexer": "ipython3",
   "version": "3.12.0"
  }
 },
 "nbformat": 4,
 "nbformat_minor": 2
}
