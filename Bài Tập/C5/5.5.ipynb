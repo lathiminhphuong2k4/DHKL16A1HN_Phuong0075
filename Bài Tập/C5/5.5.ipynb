{
 "cells": [
  {
   "cell_type": "code",
   "execution_count": 5,
   "metadata": {},
   "outputs": [
    {
     "name": "stdout",
     "output_type": "stream",
     "text": [
      "ID =  1\n",
      "Name =  Nguyễn Văn A\n",
      "Age =  25\n",
      "Address =  123 Trần Hưng Đạo, Nam Định\n",
      "Salary =  5000.0\n",
      "\n",
      "ID =  2\n",
      "Name =  Trần Văn B\n",
      "Age =  30\n",
      "Address =  456 Cầu Giấy, Hà Nội\n",
      "Salary =  6000.0\n",
      "\n",
      "ID =  3\n",
      "Name =  Lê Thị C\n",
      "Age =  35\n",
      "Address =  789 Lê Lợi, TP.Hồ Chí Minh\n",
      "Salary =  7000.0\n",
      "\n"
     ]
    }
   ],
   "source": [
    "import sqlite3\n",
    "# Kết nối đến cơ sở dữ liệu\n",
    "conn = sqlite3.connect('database.db')\n",
    "# Tạo một bảng\n",
    "conn.execute('''CREATE TABLE IF NOT EXISTS employees\n",
    "                (id INT PRIMARY KEY     NOT NULL,\n",
    "                name           TEXT    NOT NULL,\n",
    "                age            INT     NOT NULL,\n",
    "                address        CHAR(50),\n",
    "                salary         REAL);''')\n",
    "# Chèn các bản ghi vào bảng\n",
    "conn.execute(\"INSERT INTO employees (id, name, age, address, salary) \\\n",
    "              VALUES (1, 'Nguyễn Văn A', 25, '123 Trần Hưng Đạo, Nam Định', 5000)\")\n",
    "conn.execute(\"INSERT INTO employees (id, name, age, address, salary) \\\n",
    "              VALUES (2, 'Trần Văn B', 30, '456 Cầu Giấy, Hà Nội', 6000)\")\n",
    "conn.execute(\"INSERT INTO employees (id, name, age, address, salary) \\\n",
    "              VALUES (3, 'Lê Thị C', 35, '789 Lê Lợi, TP.Hồ Chí Minh', 7000)\")\n",
    "\n",
    "# Lấy tất cả các bản ghi từ bảng\n",
    "cursor = conn.execute(\"SELECT id, name, age, address, salary from employees\")\n",
    "for row in cursor:\n",
    "    print(\"ID = \", row[0])\n",
    "    print(\"Name = \", row[1])\n",
    "    print(\"Age = \", row[2])\n",
    "    print(\"Address = \", row[3])\n",
    "    print(\"Salary = \", row[4])\n",
    "    print(\"\")\n",
    "# Đóng kết nối đến cơ sở dữ liệu\n",
    "conn.close()"
   ]
  }
 ],
 "metadata": {
  "kernelspec": {
   "display_name": "Python 3",
   "language": "python",
   "name": "python3"
  },
  "language_info": {
   "codemirror_mode": {
    "name": "ipython",
    "version": 3
   },
   "file_extension": ".py",
   "mimetype": "text/x-python",
   "name": "python",
   "nbconvert_exporter": "python",
   "pygments_lexer": "ipython3",
   "version": "3.12.0"
  }
 },
 "nbformat": 4,
 "nbformat_minor": 2
}
