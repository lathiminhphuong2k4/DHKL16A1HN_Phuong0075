{
 "cells": [
  {
   "cell_type": "code",
   "execution_count": 3,
   "metadata": {},
   "outputs": [
    {
     "name": "stdout",
     "output_type": "stream",
     "text": [
      "Số bản ghi:  0\n"
     ]
    }
   ],
   "source": [
    "import sqlite3\n",
    "\n",
    "# Kết nối đến cơ sở dữ liệu\n",
    "conn = sqlite3.connect('database.db')\n",
    "# Tạo một đối tượng cursor để thực thi các truy vấn\n",
    "cursor = conn.cursor()\n",
    "\n",
    "# Lấy số bản ghi từ bảng\n",
    "cursor.execute(\"SELECT COUNT(*) FROM employees \")\n",
    "count = cursor.fetchone()[0]\n",
    "\n",
    "# In ra số bản ghi\n",
    "print(\"Số bản ghi: \", count)\n",
    "\n",
    "# Đóng kết nối và cursor\n",
    "cursor.close()\n",
    "conn.close()"
   ]
  }
 ],
 "metadata": {
  "kernelspec": {
   "display_name": "Python 3",
   "language": "python",
   "name": "python3"
  },
  "language_info": {
   "codemirror_mode": {
    "name": "ipython",
    "version": 3
   },
   "file_extension": ".py",
   "mimetype": "text/x-python",
   "name": "python",
   "nbconvert_exporter": "python",
   "pygments_lexer": "ipython3",
   "version": "3.12.0"
  }
 },
 "nbformat": 4,
 "nbformat_minor": 2
}
