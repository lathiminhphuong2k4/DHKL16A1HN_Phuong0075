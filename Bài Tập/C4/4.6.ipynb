{
 "cells": [
  {
   "cell_type": "code",
   "execution_count": 2,
   "metadata": {},
   "outputs": [],
   "source": [
    "import pandas as pd\n",
    "import numpy as np"
   ]
  },
  {
   "cell_type": "code",
   "execution_count": 3,
   "metadata": {},
   "outputs": [],
   "source": [
    "ser=pd.Series(np.take(list('abcdefgh'),np.random.randint(8,size=30)))"
   ]
  },
  {
   "cell_type": "code",
   "execution_count": null,
   "metadata": {},
   "outputs": [],
   "source": [
    "#1. Đoạn mã trên tạo một Series gồm 30 phần tử\n",
    "#trong đó mỗi phần tử được chọn ngẫu nhiên từ danh sách ['a', 'b', 'c', 'd', 'e', 'f', 'g', 'h']\n",
    "#Cụ thể, hàm np.random.randint(8, size=30) được sử dụng để tạo một mảng ngẫu nhiên gồm 30 số nguyên từ 0 đến 7\n",
    "# và sau đó hàm np.take() được sử dụng để chọn các phần tử tương ứng từ danh sách ký tự\n",
    "#Kết quả là một Series có 30 phần tử ngẫu nhiên từ danh sách ký tự đã cho."
   ]
  },
  {
   "cell_type": "code",
   "execution_count": 5,
   "metadata": {},
   "outputs": [
    {
     "name": "stdout",
     "output_type": "stream",
     "text": [
      "Số lần xuất hiện của mỗi giá trị duy nhất trong ser là: \n"
     ]
    },
    {
     "data": {
      "text/plain": [
       "d    6\n",
       "g    6\n",
       "a    5\n",
       "e    4\n",
       "c    3\n",
       "f    3\n",
       "b    3\n",
       "dtype: int64"
      ]
     },
     "execution_count": 5,
     "metadata": {},
     "output_type": "execute_result"
    }
   ],
   "source": [
    "#2.Tính số lần xuất hiện của mỗi giá trị duy nhất trong ser\n",
    "so_lan_xuat_hien=ser.value_counts()\n",
    "print(\"Số lần xuất hiện của mỗi giá trị duy nhất trong ser là: \")\n",
    "so_lan_xuat_hien"
   ]
  }
 ],
 "metadata": {
  "kernelspec": {
   "display_name": "Python 3",
   "language": "python",
   "name": "python3"
  },
  "language_info": {
   "codemirror_mode": {
    "name": "ipython",
    "version": 3
   },
   "file_extension": ".py",
   "mimetype": "text/x-python",
   "name": "python",
   "nbconvert_exporter": "python",
   "pygments_lexer": "ipython3",
   "version": "3.6.8"
  }
 },
 "nbformat": 4,
 "nbformat_minor": 2
}
