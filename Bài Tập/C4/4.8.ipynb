{
 "cells": [
  {
   "cell_type": "code",
   "execution_count": 20,
   "metadata": {},
   "outputs": [],
   "source": [
    "import pandas as pd\n",
    "import numpy as np\n",
    "\n",
    "ser=pd.Series(np.random.random(20))"
   ]
  },
  {
   "cell_type": "code",
   "execution_count": 21,
   "metadata": {},
   "outputs": [
    {
     "name": "stdout",
     "output_type": "stream",
     "text": [
      "0      Deciles4\n",
      "1     Deciles10\n",
      "2      Deciles8\n",
      "3      Deciles9\n",
      "4      Deciles5\n",
      "5      Deciles7\n",
      "6      Deciles6\n",
      "7     Deciles10\n",
      "8      Deciles4\n",
      "9      Deciles1\n",
      "10     Deciles2\n",
      "11     Deciles3\n",
      "12     Deciles3\n",
      "13     Deciles8\n",
      "14     Deciles7\n",
      "15     Deciles6\n",
      "16     Deciles2\n",
      "17     Deciles9\n",
      "18     Deciles1\n",
      "19     Deciles5\n",
      "dtype: object\n"
     ]
    }
   ],
   "source": [
    "deciles=pd.qcut(ser,q=10,labels=False)\n",
    "ser_moi=deciles.map(lambda x:f'Deciles{x+1}')\n",
    "print(ser_moi)"
   ]
  }
 ],
 "metadata": {
  "kernelspec": {
   "display_name": "Python 3",
   "language": "python",
   "name": "python3"
  },
  "language_info": {
   "codemirror_mode": {
    "name": "ipython",
    "version": 3
   },
   "file_extension": ".py",
   "mimetype": "text/x-python",
   "name": "python",
   "nbconvert_exporter": "python",
   "pygments_lexer": "ipython3",
   "version": "3.6.8"
  }
 },
 "nbformat": 4,
 "nbformat_minor": 2
}
