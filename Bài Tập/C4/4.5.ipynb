{
 "cells": [
  {
   "cell_type": "code",
   "execution_count": 2,
   "metadata": {},
   "outputs": [],
   "source": [
    "import numpy as np\n",
    "import pandas as pd"
   ]
  },
  {
   "cell_type": "code",
   "execution_count": 3,
   "metadata": {},
   "outputs": [],
   "source": [
    "ser=pd.Series(np.random.normal(10,5,25))"
   ]
  },
  {
   "cell_type": "code",
   "execution_count": 7,
   "metadata": {},
   "outputs": [
    {
     "name": "stdout",
     "output_type": "stream",
     "text": [
      "Giá trị tối thiểu của ser là:  -6.774068801120684\n"
     ]
    }
   ],
   "source": [
    "#1.GT tối thiểu của ser\n",
    "minimum=ser.min()\n",
    "print(\"Giá trị tối thiểu của ser là: \",minimum)"
   ]
  },
  {
   "cell_type": "code",
   "execution_count": 10,
   "metadata": {},
   "outputs": [
    {
     "name": "stdout",
     "output_type": "stream",
     "text": [
      "Phần centile thứ 25 của ser là:  4.928329090619529\n"
     ]
    }
   ],
   "source": [
    "#2.Phần centile thứ 25 của ser\n",
    "percentile_25=ser.quantile(q=0.25)\n",
    "print(\"Phần centile thứ 25 của ser là: \",percentile_25)"
   ]
  },
  {
   "cell_type": "code",
   "execution_count": 11,
   "metadata": {},
   "outputs": [
    {
     "name": "stdout",
     "output_type": "stream",
     "text": [
      "Trung vị của ser là:  7.674158322563774\n"
     ]
    }
   ],
   "source": [
    "#3.Trung vị của ser\n",
    "median_ser=ser.median()\n",
    "print(\"Trung vị của ser là: \",median_ser)"
   ]
  },
  {
   "cell_type": "code",
   "execution_count": 12,
   "metadata": {},
   "outputs": [
    {
     "name": "stdout",
     "output_type": "stream",
     "text": [
      "Phần centile thứ 75 của ser là:  10.74457465140411\n"
     ]
    }
   ],
   "source": [
    "#4.Phần centile thứ 75 của ser\n",
    "percentile_75=ser.quantile(q=0.75)\n",
    "print(\"Phần centile thứ 75 của ser là: \",percentile_75)"
   ]
  },
  {
   "cell_type": "code",
   "execution_count": 13,
   "metadata": {},
   "outputs": [
    {
     "name": "stdout",
     "output_type": "stream",
     "text": [
      "Giá trị tối đa của ser là:  20.378450172324868\n"
     ]
    }
   ],
   "source": [
    "#5.GT tối đa của ser\n",
    "maximum=ser.max()\n",
    "print(\"Giá trị tối đa của ser là: \",maximum)"
   ]
  }
 ],
 "metadata": {
  "kernelspec": {
   "display_name": "Python 3",
   "language": "python",
   "name": "python3"
  },
  "language_info": {
   "codemirror_mode": {
    "name": "ipython",
    "version": 3
   },
   "file_extension": ".py",
   "mimetype": "text/x-python",
   "name": "python",
   "nbconvert_exporter": "python",
   "pygments_lexer": "ipython3",
   "version": "3.6.8"
  }
 },
 "nbformat": 4,
 "nbformat_minor": 2
}
