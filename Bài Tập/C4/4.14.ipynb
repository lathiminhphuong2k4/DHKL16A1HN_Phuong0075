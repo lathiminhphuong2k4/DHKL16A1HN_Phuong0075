{
 "cells": [
  {
   "cell_type": "code",
   "execution_count": 1,
   "metadata": {},
   "outputs": [],
   "source": [
    "import pandas as pd \n",
    "import numpy as np\n",
    "\n",
    "truth =pd.Series(range(10))\n",
    "perd =pd.Series(range(10)) + np.random.random(10)"
   ]
  },
  {
   "cell_type": "code",
   "execution_count": 4,
   "metadata": {},
   "outputs": [
    {
     "name": "stdout",
     "output_type": "stream",
     "text": [
      "Sai số bình phương trung bình của chuỗi truth và chuỗi perd là:  0.204456186182922\n"
     ]
    }
   ],
   "source": [
    "#tính sai số bình phương trung bình của chuỗi truth và chuỗi perd\n",
    "mean_squared_error=np.mean((truth - perd)**2)\n",
    "print(\"Sai số bình phương trung bình của chuỗi truth và chuỗi perd là: \",mean_squared_error)"
   ]
  }
 ],
 "metadata": {
  "kernelspec": {
   "display_name": "Python 3",
   "language": "python",
   "name": "python3"
  },
  "language_info": {
   "codemirror_mode": {
    "name": "ipython",
    "version": 3
   },
   "file_extension": ".py",
   "mimetype": "text/x-python",
   "name": "python",
   "nbconvert_exporter": "python",
   "pygments_lexer": "ipython3",
   "version": "3.6.8"
  }
 },
 "nbformat": 4,
 "nbformat_minor": 2
}
