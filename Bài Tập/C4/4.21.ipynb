{
 "cells": [
  {
   "cell_type": "code",
   "execution_count": 1,
   "metadata": {},
   "outputs": [],
   "source": [
    "import pandas as pd "
   ]
  },
  {
   "cell_type": "code",
   "execution_count": 2,
   "metadata": {},
   "outputs": [
    {
     "name": "stdout",
     "output_type": "stream",
     "text": [
      "Kiểu dữ liệu: <class 'pandas.core.frame.DataFrame'>\n",
      "Kích thước: (193, 6)\n",
      "Các cột: Index(['country', 'beer_servings', 'spirit_servings', 'wine_servings',\n",
      "       'total_litres_of_pure_alcohol', 'continent'],\n",
      "      dtype='object')\n",
      "5 dòng đầu tiên:\n",
      "        country  beer_servings  spirit_servings  wine_servings  \\\n",
      "0  Afghanistan              0                0              0   \n",
      "1      Albania             89              132             54   \n",
      "2      Algeria             25                0             14   \n",
      "3      Andorra            245              138            312   \n",
      "4       Angola            217               57             45   \n",
      "\n",
      "   total_litres_of_pure_alcohol continent  \n",
      "0                           0.0        AS  \n",
      "1                           4.9        EU  \n",
      "2                           0.7        AF  \n",
      "3                          12.4        EU  \n",
      "4                           5.9        AF  \n",
      "5 dòng cuối cùng:\n",
      "        country  beer_servings  spirit_servings  wine_servings  \\\n",
      "188  Venezuela            333              100              3   \n",
      "189    Vietnam            111                2              1   \n",
      "190      Yemen              6                0              0   \n",
      "191     Zambia             32               19              4   \n",
      "192   Zimbabwe             64               18              4   \n",
      "\n",
      "     total_litres_of_pure_alcohol continent  \n",
      "188                           7.7        SA  \n",
      "189                           2.0        AS  \n",
      "190                           0.1        AS  \n",
      "191                           2.5        AF  \n",
      "192                           4.7        AF  \n"
     ]
    }
   ],
   "source": [
    "#1Đọc dữ liệu từ tập tin drinks.csv và hiển thị thông tin cơ bản\n",
    "drink = pd.read_csv('drinks.csv', index_col=0)\n",
    "print(\"Kiểu dữ liệu:\", type(drink))\n",
    "print(\"Kích thước:\", drink.shape)\n",
    "print(\"Các cột:\", drink.columns)\n",
    "print(\"5 dòng đầu tiên:\\n\", drink.head())\n",
    "print(\"5 dòng cuối cùng:\\n\", drink.tail())"
   ]
  },
  {
   "cell_type": "code",
   "execution_count": 3,
   "metadata": {},
   "outputs": [
    {
     "name": "stdout",
     "output_type": "stream",
     "text": [
      "Số lượng bia tiêu thụ trung bình ở mỗi châu lục là: \n",
      " continent\n",
      "AF     61.471698\n",
      "AS     37.045455\n",
      "EU    193.777778\n",
      "OC     89.687500\n",
      "SA    175.083333\n",
      "Name: beer_servings, dtype: float64\n"
     ]
    }
   ],
   "source": [
    "# 2. Số lượng bia tiêu thụ trung bình ở mỗi châu lục\n",
    "beer_avg = drink.groupby('continent')['beer_servings'].mean()\n",
    "print(\"Số lượng bia tiêu thụ trung bình ở mỗi châu lục là: \\n\", beer_avg)\n"
   ]
  },
  {
   "cell_type": "code",
   "execution_count": 4,
   "metadata": {},
   "outputs": [
    {
     "name": "stdout",
     "output_type": "stream",
     "text": [
      "Thông tin thống kê tổng quát số lượng rượu vang được tiêu thụ ở mỗi châu lục là :\n",
      "            count        mean        std  min   25%    50%     75%    max\n",
      "continent                                                               \n",
      "AF          53.0   16.264151  38.846419  0.0   1.0    2.0   13.00  233.0\n",
      "AS          44.0    9.068182  21.667034  0.0   0.0    1.0    8.00  123.0\n",
      "EU          45.0  142.222222  97.421738  0.0  59.0  128.0  195.00  370.0\n",
      "OC          16.0   35.625000  64.555790  0.0   1.0    8.5   23.25  212.0\n",
      "SA          12.0   62.416667  88.620189  1.0   3.0   12.0   98.50  221.0\n"
     ]
    }
   ],
   "source": [
    "# 3. Thông tin thống kê tổng quát số lượng rượu vang được tiêu thụ ở mỗi châu lục\n",
    "wine_stats = drink.groupby('continent')['wine_servings'].describe()\n",
    "print(\"Thông tin thống kê tổng quát số lượng rượu vang được tiêu thụ ở mỗi châu lục là :\\n\", wine_stats)"
   ]
  },
  {
   "cell_type": "code",
   "execution_count": 5,
   "metadata": {},
   "outputs": [
    {
     "name": "stdout",
     "output_type": "stream",
     "text": [
      "Số lượng các loại bia và rượu tiêu thụ trung bình ở mỗi châu lục là:\n",
      "            beer_servings  wine_servings  spirit_servings\n",
      "continent                                               \n",
      "AF             61.471698      16.264151        16.339623\n",
      "AS             37.045455       9.068182        60.840909\n",
      "EU            193.777778     142.222222       132.555556\n",
      "OC             89.687500      35.625000        58.437500\n",
      "SA            175.083333      62.416667       114.750000\n"
     ]
    }
   ],
   "source": [
    "# 4. Số lượng các loại bia và rượu tiêu thụ trung bình ở mỗi châu lục\n",
    "mean_drinks = drink.groupby('continent')[['beer_servings', 'wine_servings', 'spirit_servings']].mean()\n",
    "print(\"Số lượng các loại bia và rượu tiêu thụ trung bình ở mỗi châu lục là:\\n\", mean_drinks)"
   ]
  },
  {
   "cell_type": "code",
   "execution_count": 7,
   "metadata": {},
   "outputs": [
    {
     "name": "stdout",
     "output_type": "stream",
     "text": [
      "Giá trị trung vị cho các loại bia và rượu tiêu thụ ở mỗi châu lục là:\n",
      "            beer_servings  wine_servings  spirit_servings\n",
      "continent                                               \n",
      "AF                  32.0            2.0              3.0\n",
      "AS                  17.5            1.0             16.0\n",
      "EU                 219.0          128.0            122.0\n",
      "OC                  52.5            8.5             37.0\n",
      "SA                 162.5           12.0            108.5\n"
     ]
    }
   ],
   "source": [
    "# 5. Giá trị trung vị cho các loại bia và rượu tiêu thụ ở mỗi châu lục\n",
    "median_drinks = drink.groupby('continent')[['beer_servings', 'wine_servings', 'spirit_servings']].median()\n",
    "print(\"Giá trị trung vị cho các loại bia và rượu tiêu thụ ở mỗi châu lục là:\\n\", median_drinks)"
   ]
  },
  {
   "cell_type": "code",
   "execution_count": 8,
   "metadata": {},
   "outputs": [
    {
     "name": "stdout",
     "output_type": "stream",
     "text": [
      "Số lượng rượu mạnh tiêu thụ trung bình ở mỗi châu lục là:\n",
      " continent\n",
      "AF     16.339623\n",
      "AS     60.840909\n",
      "EU    132.555556\n",
      "OC     58.437500\n",
      "SA    114.750000\n",
      "Name: spirit_servings, dtype: float64\n",
      "Số lượng rượu mạnh tiêu thụ lớn nhất ở mỗi châu lục là:\n",
      " continent\n",
      "AF    152\n",
      "AS    326\n",
      "EU    373\n",
      "OC    254\n",
      "SA    302\n",
      "Name: spirit_servings, dtype: int64\n",
      "Số lượng rượu mạnh tiêu thụ nhỏ nhất ở mỗi châu lục là:\n",
      " continent\n",
      "AF     0\n",
      "AS     0\n",
      "EU     0\n",
      "OC     0\n",
      "SA    25\n",
      "Name: spirit_servings, dtype: int64\n"
     ]
    }
   ],
   "source": [
    "# 6. Số lượng rượu mạnh tiêu thụ trung bình, lớn nhất và nhỏ nhất ở mỗi châu lục\n",
    "spirit_avg = drink.groupby('continent')['spirit_servings'].mean()\n",
    "spirit_max = drink.groupby('continent')['spirit_servings'].max()\n",
    "spirit_min = drink.groupby('continent')['spirit_servings'].min()\n",
    "print(\"Số lượng rượu mạnh tiêu thụ trung bình ở mỗi châu lục là:\\n\", spirit_avg)\n",
    "print(\"Số lượng rượu mạnh tiêu thụ lớn nhất ở mỗi châu lục là:\\n\", spirit_max)\n",
    "print(\"Số lượng rượu mạnh tiêu thụ nhỏ nhất ở mỗi châu lục là:\\n\", spirit_min)"
   ]
  },
  {
   "cell_type": "code",
   "execution_count": 9,
   "metadata": {},
   "outputs": [
    {
     "name": "stdout",
     "output_type": "stream",
     "text": [
      "5 quốc gia có lượng tiêu thụ bia nhiều nhất là:\n",
      " 135    343\n",
      "65     346\n",
      "62     347\n",
      "45     361\n",
      "117    376\n",
      "Name: beer_servings, dtype: int64\n",
      "5 quốc gia có lượng tiêu thụ bia ít nhất là:\n",
      " 0     0\n",
      "40    0\n",
      "79    0\n",
      "90    0\n",
      "97    0\n",
      "Name: beer_servings, dtype: int64\n"
     ]
    }
   ],
   "source": [
    "# 7. Sắp xếp dữ liệu tăng dần theo số lượng bia tiêu thụ và hiển thị 5 quốc gia có lượng tiêu thụ bia nhiều nhất và ít nhất\n",
    "sorted_drinks = drink.sort_values('beer_servings')\n",
    "top_5_countries = sorted_drinks.tail(5)['beer_servings']\n",
    "bottom_5_countries = sorted_drinks.head(5)['beer_servings']\n",
    "print(\"5 quốc gia có lượng tiêu thụ bia nhiều nhất là:\\n\", top_5_countries)\n",
    "print(\"5 quốc gia có lượng tiêu thụ bia ít nhất là:\\n\", bottom_5_countries)"
   ]
  }
 ],
 "metadata": {
  "kernelspec": {
   "display_name": "Python 3",
   "language": "python",
   "name": "python3"
  },
  "language_info": {
   "codemirror_mode": {
    "name": "ipython",
    "version": 3
   },
   "file_extension": ".py",
   "mimetype": "text/x-python",
   "name": "python",
   "nbconvert_exporter": "python",
   "pygments_lexer": "ipython3",
   "version": "3.6.8"
  }
 },
 "nbformat": 4,
 "nbformat_minor": 2
}
